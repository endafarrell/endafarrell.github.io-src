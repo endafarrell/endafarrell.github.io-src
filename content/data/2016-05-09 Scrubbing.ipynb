{
 "cells": [
  {
   "cell_type": "markdown",
   "metadata": {},
   "source": [
    "I have sensors - a great many - which report numbers daily. There's a long piepline and many processes between these sensorss and the ~daily reports I get, and sometimes weird spikes and dips happen in the numbers: often fixed the very next day.\n",
    "\n",
    "This can at times be something which has to be scrubbed and/or dealth-with to prevent downstream work from making (poor-)data-driven decisions rather than (good-)data-driven decisions. \n",
    "\n",
    "Here's a simplified example."
   ]
  },
  {
   "cell_type": "code",
   "execution_count": 2,
   "metadata": {},
   "outputs": [
    {
     "name": "stdout",
     "output_type": "stream",
     "text": [
      "                      readings: \n",
      "[[20160221, 10], [20160225, 20], [20160226, 10]]\n",
      "                 np.array[:,1]: [10 20 10]\n",
      "            np.median of likes: 10.0\n",
      "                        deltas: [0, 10, -10]\n",
      "                    pos_deltas: [10]\n",
      "       np.median of pos_deltas: 10.0\n",
      " np.percentile(pos_deltas, 75): 10.0\n",
      "\n",
      "readings ignoring [20160225, 20160226]: \n",
      "[[20160221, 10]]\n",
      "                 np.array[:,1]: [10]\n",
      "            np.median of likes: 10.0\n",
      "                        deltas: [0]\n",
      "                    pos_deltas: []\n",
      "       np.median of pos_deltas: None\n",
      " np.percentile(pos_deltas, 75): None\n",
      "\n",
      "A more complete example\n",
      "                      readings: \n",
      "[[20160221, 10],\n",
      " [20160225, 20],\n",
      " [20160226, 10],\n",
      " [20160301, 12],\n",
      " [20160305, 13],\n",
      " [20160310, 12],\n",
      " [20160320, 13],\n",
      " [20160328, 15],\n",
      " [20160402, 17]]\n",
      "                 np.array[:,1]: [10 20 10 12 13 12 13 15 17]\n",
      "            np.median of likes: 13.0\n",
      "                        deltas: [0, 10, -10, 2, 1, -1, 1, 2, 2]\n",
      "                    pos_deltas: [10, 2, 1, 1, 2, 2]\n",
      "       np.median of pos_deltas: 2.0\n",
      " np.percentile(pos_deltas, 75): 2.0\n",
      "\n",
      "readings ignoring [20160225, 20160226]: \n",
      "[[20160221, 10],\n",
      " [20160301, 12],\n",
      " [20160305, 13],\n",
      " [20160310, 12],\n",
      " [20160320, 13],\n",
      " [20160328, 15],\n",
      " [20160402, 17]]\n",
      "                 np.array[:,1]: [10 12 13 12 13 15 17]\n",
      "            np.median of likes: 13.0\n",
      "                        deltas: [0, 2, 1, -1, 1, 2, 2]\n",
      "                    pos_deltas: [2, 1, 1, 2, 2]\n",
      "       np.median of pos_deltas: 2.0\n",
      " np.percentile(pos_deltas, 75): 2.0\n"
     ]
    }
   ],
   "source": [
    "import numpy as np\n",
    "import pprint\n",
    "ignore_dates = [20160225, 20160226]\n",
    "\n",
    "readings = [\n",
    "    [20160221, 10],\n",
    "    [20160225, 20],\n",
    "    [20160226, 10]    \n",
    "]\n",
    "\n",
    "def report(vals, desc=\"readings\"):\n",
    "    fmt = \"{:>30}: {}\"\n",
    "    print(fmt.format(desc, \"\\n{}\".format(pprint.pformat(vals))))\n",
    "    print(fmt.format(\"np.array[:,1]\", np.array(vals)[:,1]))\n",
    "    print(fmt.format(\"np.median of likes\", np.median(np.array(vals)[:,1])))\n",
    "\n",
    "    deltas = [val[1] - vals[max(idx - 1, 0)][1] for idx, val in enumerate(vals)]\n",
    "    print(fmt.format(\"deltas\", deltas))\n",
    "\n",
    "    pos_deltas = [d for d in deltas if d > 0]\n",
    "    print(fmt.format(\"pos_deltas\", pos_deltas))\n",
    "\n",
    "    print(fmt.format(\"np.median of pos_deltas\", np.median(pos_deltas) if pos_deltas else None))\n",
    "    print(fmt.format(\"np.percentile(pos_deltas, 75)\", np.percentile(pos_deltas, 75) if pos_deltas else None))\n",
    "\n",
    "report(readings)\n",
    "readings = [v for v in readings if not v[0] in ignore_dates]\n",
    "print(\"\")\n",
    "report(readings, \"readings ignoring {}\".format(ignore_dates))\n",
    "print(\"\\nA more complete example\")\n",
    "\n",
    "readings = [\n",
    "    [20160221, 10],\n",
    "    [20160225, 20],\n",
    "    [20160226, 10],\n",
    "    [20160301, 12],\n",
    "    [20160305, 13],\n",
    "    [20160310, 12],\n",
    "    [20160320, 13],\n",
    "    [20160328, 15],\n",
    "    [20160402, 17]\n",
    "]\n",
    "report(readings)\n",
    "readings = [v for v in readings if not v[0] in ignore_dates]\n",
    "print()\n",
    "report(readings, \"readings ignoring {}\".format(ignore_dates))"
   ]
  },
  {
   "cell_type": "markdown",
   "metadata": {},
   "source": [
    "When skipping past the spike day, it's often helpful to remember that there's a very large positive first (time) differential for that day, and, an equally large negative first (time) differential for the next day: hence the simple approach is to skip both the day of the (up) spike and the (rectifying) day after."
   ]
  }
 ],
 "metadata": {
  "kernelspec": {
   "display_name": "Python 3",
   "language": "python",
   "name": "python3"
  },
  "language_info": {
   "codemirror_mode": {
    "name": "ipython",
    "version": 3
   },
   "file_extension": ".py",
   "mimetype": "text/x-python",
   "name": "python",
   "nbconvert_exporter": "python",
   "pygments_lexer": "ipython3",
   "version": "3.7.3"
  }
 },
 "nbformat": 4,
 "nbformat_minor": 1
}
